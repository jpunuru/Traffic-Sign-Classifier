{
 "cells": [
  {
   "cell_type": "markdown",
   "metadata": {},
   "source": [
    "# Self-Driving Car Engineer Nanodegree\n",
    "\n",
    "## Deep Learning\n",
    "\n",
    "## Project: Build a Traffic Sign Recognition Classifier\n",
    "\n",
    "In this notebook, a template is provided for you to implement your functionality in stages which is required to successfully complete this project. If additional code is required that cannot be included in the notebook, be sure that the Python code is successfully imported and included in your submission, if necessary. Sections that begin with **'Implementation'** in the header indicate where you should begin your implementation for your project. Note that some sections of implementation are optional, and will be marked with **'Optional'** in the header.\n",
    "\n",
    "In addition to implementing code, there will be questions that you must answer which relate to the project and your implementation. Each section where you will answer a question is preceded by a **'Question'** header. Carefully read each question and provide thorough answers in the following text boxes that begin with **'Answer:'**. Your project submission will be evaluated based on your answers to each of the questions and the implementation you provide.\n",
    "\n",
    ">**Note:** Code and Markdown cells can be executed using the **Shift + Enter** keyboard shortcut. In addition, Markdown cells can be edited by typically double-clicking the cell to enter edit mode."
   ]
  },
  {
   "cell_type": "markdown",
   "metadata": {},
   "source": [
    "---\n",
    "## Step 0: Load The Data"
   ]
  },
  {
   "cell_type": "code",
   "execution_count": 1,
   "metadata": {
    "collapsed": true
   },
   "outputs": [],
   "source": [
    "# Load pickled data\n",
    "import pickle\n",
    "\n",
    "# TODO: Fill this in based on where you saved the training and testing data\n",
    "\n",
    "training_file = 'train.p'\n",
    "testing_file = 'test.p'\n",
    "\n",
    "with open(training_file, mode='rb') as f:\n",
    "    train = pickle.load(f)\n",
    "with open(testing_file, mode='rb') as f:\n",
    "    test = pickle.load(f)\n",
    "    \n",
    "X_train, y_train = train['features'], train['labels']\n",
    "X_test, y_test = test['features'], test['labels']"
   ]
  },
  {
   "cell_type": "markdown",
   "metadata": {},
   "source": [
    "---\n",
    "\n",
    "## Step 1: Dataset Summary & Exploration\n",
    "\n",
    "The pickled data is a dictionary with 4 key/value pairs:\n",
    "\n",
    "- `'features'` is a 4D array containing raw pixel data of the traffic sign images, (num examples, width, height, channels).\n",
    "- `'labels'` is a 1D array containing the label/class id of the traffic sign. The file `signnames.csv` contains id -> name mappings for each id.\n",
    "- `'sizes'` is a list containing tuples, (width, height) representing the the original width and height the image.\n",
    "- `'coords'` is a list containing tuples, (x1, y1, x2, y2) representing coordinates of a bounding box around the sign in the image. **THESE COORDINATES ASSUME THE ORIGINAL IMAGE. THE PICKLED DATA CONTAINS RESIZED VERSIONS (32 by 32) OF THESE IMAGES**\n",
    "\n",
    "Complete the basic data summary below."
   ]
  },
  {
   "cell_type": "code",
   "execution_count": 2,
   "metadata": {
    "collapsed": false
   },
   "outputs": [
    {
     "name": "stdout",
     "output_type": "stream",
     "text": [
      "Number of training examples = 39209\n",
      "Number of testing examples = 12630\n",
      "Image data shape = (32, 32, 3)\n",
      "Number of classes = 43\n"
     ]
    }
   ],
   "source": [
    "### Replace each question mark with the appropriate value.\n",
    "\n",
    "# TODO: Number of training examples\n",
    "n_train = len(X_train)\n",
    "\n",
    "# TODO: Number of testing examples.\n",
    "n_test = len(X_test)\n",
    "\n",
    "# TODO: What's the shape of an traffic sign image?\n",
    "image_shape = X_train[0].shape\n",
    "\n",
    "# TODO: How many unique classes/labels there are in the dataset.\n",
    "n_classes = len(set(y_train))\n",
    "\n",
    "print(\"Number of training examples =\", n_train)\n",
    "print(\"Number of testing examples =\", n_test)\n",
    "print(\"Image data shape =\", image_shape)\n",
    "print(\"Number of classes =\", n_classes)"
   ]
  },
  {
   "cell_type": "markdown",
   "metadata": {},
   "source": [
    "Visualize the German Traffic Signs Dataset using the pickled file(s). This is open ended, suggestions include: plotting traffic sign images, plotting the count of each sign, etc.\n",
    "\n",
    "The [Matplotlib](http://matplotlib.org/) [examples](http://matplotlib.org/examples/index.html) and [gallery](http://matplotlib.org/gallery.html) pages are a great resource for doing visualizations in Python.\n",
    "\n",
    "**NOTE:** It's recommended you start with something simple first. If you wish to do more, come back to it after you've completed the rest of the sections."
   ]
  },
  {
   "cell_type": "code",
   "execution_count": 19,
   "metadata": {
    "collapsed": false
   },
   "outputs": [],
   "source": [
    "### Data exploration visualization goes here.\n",
    "### Feel free to use as many code cells as needed.\n",
    "import matplotlib.pyplot as plt\n",
    "# Visualizations will be shown in the notebook.\n",
    "%matplotlib inline"
   ]
  },
  {
   "cell_type": "markdown",
   "metadata": {},
   "source": [
    "----\n",
    "\n",
    "## Step 2: Design and Test a Model Architecture\n",
    "\n",
    "Design and implement a deep learning model that learns to recognize traffic signs. Train and test your model on the [German Traffic Sign Dataset](http://benchmark.ini.rub.de/?section=gtsrb&subsection=dataset).\n",
    "\n",
    "There are various aspects to consider when thinking about this problem:\n",
    "\n",
    "- Neural network architecture\n",
    "- Play around preprocessing techniques (normalization, rgb to grayscale, etc)\n",
    "- Number of examples per label (some have more than others).\n",
    "- Generate fake data.\n",
    "\n",
    "Here is an example of a [published baseline model on this problem](http://yann.lecun.com/exdb/publis/pdf/sermanet-ijcnn-11.pdf). It's not required to be familiar with the approach used in the paper but, it's good practice to try to read papers like these.\n",
    "\n",
    "**NOTE:** The LeNet-5 implementation shown in the [classroom](https://classroom.udacity.com/nanodegrees/nd013/parts/fbf77062-5703-404e-b60c-95b78b2f3f9e/modules/6df7ae49-c61c-4bb2-a23e-6527e69209ec/lessons/601ae704-1035-4287-8b11-e2c2716217ad/concepts/d4aca031-508f-4e0b-b493-e7b706120f81) at the end of the CNN lesson is a solid starting point. You'll have to change the number of classes and possibly the preprocessing, but aside from that it's plug and play!"
   ]
  },
  {
   "cell_type": "markdown",
   "metadata": {},
   "source": [
    "### Implementation\n",
    "\n",
    "Use the code cell (or multiple code cells, if necessary) to implement the first step of your project. Once you have completed your implementation and are satisfied with the results, be sure to thoroughly answer the questions that follow."
   ]
  },
  {
   "cell_type": "code",
   "execution_count": 20,
   "metadata": {
    "collapsed": false
   },
   "outputs": [
    {
     "name": "stdout",
     "output_type": "stream",
     "text": [
      "(39209, 32, 32)\n"
     ]
    }
   ],
   "source": [
    "### Preprocess the data here.\n",
    "### Feel free to use as many code cells as needed.\n",
    "#Convert to  YUV space from RGB  (formula from https://en.wikipedia.org/wiki/YUV) as described in the above paper\n",
    "#Y = 0.299R +0.587G+0.114B\n",
    "import numpy as np\n",
    "from skimage import exposure\n",
    "\n",
    "\n",
    "X_train = 0.299*X_train[:,:,:,0]+0.587*X_train[:,:,:,1]+0.114*X_train[:,:,:,2]\n",
    "X_train = (X_train/255.).astype(np.float32)  #scale between 0 and 1\n",
    "\n",
    "for i in range(X_train.shape[0]):\n",
    "    X_train[i] = exposure.equalize_hist(X_train[i])\n",
    "\n",
    "\n",
    "print(X_train.shape)\n",
    "X_train = X_train.reshape(X_train.shape+(1,))\n",
    "\n",
    "\n",
    "\n",
    "X_test = 0.299*X_test[:,:,:,0]+0.587*X_test[:,:,:,1]+0.114*X_test[:,:,:,2]\n",
    "X_test = (X_test/255.).astype(np.float32)\n",
    "\n",
    "for i in range(X_test.shape[0]):\n",
    "    X_test[i] = exposure.equalize_hist(X_test[i])\n",
    "\n",
    "\n",
    "X_test = X_test.reshape(X_test.shape+(1,))\n"
   ]
  },
  {
   "cell_type": "code",
   "execution_count": 21,
   "metadata": {
    "collapsed": false
   },
   "outputs": [
    {
     "name": "stdout",
     "output_type": "stream",
     "text": [
      "39209\n",
      "12581\n",
      "8\n"
     ]
    },
    {
     "data": {
      "image/png": "[encoded data removed]",
      "text/plain": [
       "<matplotlib.figure.Figure at 0x7f09c0269d68>"
      ]
     },
     "metadata": {},
     "output_type": "display_data"
    }
   ],
   "source": [
    "import random\n",
    "print(len(X_train))\n",
    "index = random.randint(0, len(X_train))\n",
    "print(index)\n",
    "image = X_train[index].squeeze()\n",
    "\n",
    "plt.figure(figsize=(1,1))\n",
    "plt.imshow(image, cmap= plt.get_cmap('gray'))\n",
    "print(y_train[index])"
   ]
  },
  {
   "cell_type": "markdown",
   "metadata": {},
   "source": [
    "### Question 1 \n",
    "\n",
    "_Describe how you preprocessed the data. Why did you choose that technique?_"
   ]
  },
  {
   "cell_type": "markdown",
   "metadata": {},
   "source": [
    "**Answer:**\n",
    "Initially I tried normailizing RGB values(255*R/(R+G+B) and  trained and tested with standard MNIST -LeNet architecture. It gave very poor formance(61% on test data).\n",
    "\n",
    "After reading the paper http://yann.lecun.com/exdb/publis/pdf/sermanet-ijcnn-11.pdf, converted to YUV channel.\n",
    "Unsing LeNet archictecutre, I got accurcy on validation and test data as below:\n",
    "\n",
    "                  validation accuracy(%)               test accuracy\n",
    "YUV channels           86.5                             74.2\n",
    "\n",
    "Y channel only         96                               88.3\n",
    "\n",
    "Finally I settled to use Y channel only.\n",
    "\n",
    "Also, experimenting with histogram equalizers, it looks for equalize_hist for hostogram equalization seemed working well for me."
   ]
  },
  {
   "cell_type": "code",
   "execution_count": 28,
   "metadata": {
    "collapsed": false
   },
   "outputs": [
    {
     "name": "stdout",
     "output_type": "stream",
     "text": [
      "[210, 2220, 2250, 1410, 1980, 1860, 420, 1440, 1410, 1470, 2010, 1320, 2100, 2160, 780, 630, 420, 1110, 1200, 210, 360, 330, 390, 510, 270, 1500, 600, 240, 540, 270, 450, 780, 240, 689, 420, 1200, 390, 210, 2070, 300, 360, 240, 240]\n",
      "2250\n"
     ]
    },
    {
     "data": {
      "image/png": "[encoded data removed]",
      "text/plain": [
       "<matplotlib.figure.Figure at 0x7f09ff4ed240>"
      ]
     },
     "metadata": {},
     "output_type": "display_data"
    }
   ],
   "source": [
    "#Generate number of examples per class\n",
    "import numpy as np\n",
    "import matplotlib.pyplot as plt\n",
    "\n",
    "#print a\n",
    "class_counts = [0 for i in range(n_classes)]\n",
    "for v in y_train:\n",
    "    class_counts[v] += 1\n",
    "\n",
    "ind =  np.arange(n_classes)\n",
    "width = 0.25\n",
    "\n",
    "print(class_counts)\n",
    "print(max(class_counts))\n",
    "\n",
    "fig,ax = plt.subplots()\n",
    "rects = ax.bar(ind, class_counts, width, color='y')\n",
    "ax.set_ylabel('Counts')\n",
    "ax.set_title('Instance count for each class')\n",
    "ax.set_xticks(ind+width/2)\n",
    "ax.set_xticklabels(ind)\n",
    "\n",
    "plt.show()"
   ]
  },
  {
   "cell_type": "code",
   "execution_count": 29,
   "metadata": {
    "collapsed": false
   },
   "outputs": [
    {
     "name": "stdout",
     "output_type": "stream",
     "text": [
      "[[ 0  6 11 14 15 16 17 18 19 20 21 22 23 24 26 27 28 29 30 31 32 33 34 35\n",
      "  36 37 39 40 41 42]]\n"
     ]
    }
   ],
   "source": [
    "sample_threshold = 1400\n",
    "classes_to_sample = np.uint8(np.where(np.array(class_counts)<sample_threshold))\n",
    "print(classes_to_sample)"
   ]
  },
  {
   "cell_type": "code",
   "execution_count": 30,
   "metadata": {
    "collapsed": false
   },
   "outputs": [
    {
     "name": "stdout",
     "output_type": "stream",
     "text": [
      "39645\n",
      "39645\n"
     ]
    }
   ],
   "source": [
    "#sample instances\n",
    "X_sampled = np.empty((0,X_train.shape[1], X_train.shape[2],X_train.shape[3]), np.float32)\n",
    "y_sampled = np.empty(0, np.uint8)\n",
    "#print(type(y_train[0]))\n",
    "#print(type(classes_to_sample[0]))\n",
    "#print(np.where(y_train==classes_to_sample[0,0]))\n",
    "\n",
    "for cls in classes_to_sample[0]:\n",
    "    max_samples = np.random.randint(1400, 2250, 1)[0]\n",
    "    nb_samples_need = max_samples-class_counts[cls]\n",
    "    cls_instance_ids = np.where(y_train==cls)\n",
    "    #print(\"class %d \", cls)\n",
    "    #print(cls_instance_ids)\n",
    "    x_cls_train =  X_train[cls_instance_ids]\n",
    "    sampled_ids = np.random.randint(0, len(cls_instance_ids), size=nb_samples_need)\n",
    "    sampled_instances = x_cls_train[sampled_ids]\n",
    "    sampled_classes = np.full((nb_samples_need), cls, dtype=np.uint8)\n",
    "    #print(X_sampled.shape)\n",
    "    X_sampled = np.concatenate((X_sampled, sampled_instances), axis=0)\n",
    "    y_sampled = np.concatenate((y_sampled, sampled_classes), axis=0)\n",
    "    \n",
    "print(len(X_sampled)) \n",
    "print(len(y_sampled)) \n",
    "\n"
   ]
  },
  {
   "cell_type": "code",
   "execution_count": 31,
   "metadata": {
    "collapsed": false
   },
   "outputs": [
    {
     "name": "stdout",
     "output_type": "stream",
     "text": [
      "39645\n",
      "12167\n",
      "21\n"
     ]
    },
    {
     "data": {
      "image/png": "[encoded data removed]",
      "text/plain": [
       "<matplotlib.figure.Figure at 0x7f09ff726c18>"
      ]
     },
     "metadata": {},
     "output_type": "display_data"
    }
   ],
   "source": [
    "import random\n",
    "print(len(X_sampled))\n",
    "index = random.randint(0, len(X_sampled))\n",
    "print(index)\n",
    "image = X_sampled[index].squeeze()\n",
    "\n",
    "plt.figure(figsize=(1,1))\n",
    "plt.imshow(image, cmap= plt.get_cmap('gray'))\n",
    "print(y_sampled[index])"
   ]
  },
  {
   "cell_type": "code",
   "execution_count": 32,
   "metadata": {
    "collapsed": false
   },
   "outputs": [
    {
     "name": "stdout",
     "output_type": "stream",
     "text": [
      "78854\n",
      "78854\n"
     ]
    }
   ],
   "source": [
    "#add sampled instances to trainining set\n",
    "X_train = np.concatenate((X_train, X_sampled), axis=0)\n",
    "y_train = np.concatenate((y_train, y_sampled), axis=0)\n",
    "\n",
    "print(len(X_train))\n",
    "print(len(y_train))\n"
   ]
  },
  {
   "cell_type": "code",
   "execution_count": 33,
   "metadata": {
    "collapsed": false
   },
   "outputs": [
    {
     "name": "stdout",
     "output_type": "stream",
     "text": [
      "[2213, 2220, 2250, 1410, 1980, 1860, 1510, 1440, 1410, 1470, 2010, 2113, 2100, 2160, 2063, 1565, 1904, 2127, 1791, 1464, 1848, 1655, 1854, 2064, 1922, 1500, 1490, 1514, 2223, 2228, 2025, 1640, 1543, 1756, 1567, 2002, 1806, 2010, 2070, 1700, 1762, 1411, 2204]\n",
      "2250\n"
     ]
    },
    {
     "data": {
      "image/png": "[encoded data removed]",
      "text/plain": [
       "<matplotlib.figure.Figure at 0x7f09ff747080>"
      ]
     },
     "metadata": {},
     "output_type": "display_data"
    }
   ],
   "source": [
    "#Generate number of examples per class after up sampling\n",
    "import numpy as np\n",
    "import matplotlib.pyplot as plt\n",
    "\n",
    "#print a\n",
    "class_counts = [0 for i in range(n_classes)]\n",
    "for v in y_train:\n",
    "    class_counts[v] += 1\n",
    "\n",
    "ind =  np.arange(n_classes)\n",
    "width = 0.25\n",
    "\n",
    "print(class_counts)\n",
    "print(max(class_counts))\n",
    "\n",
    "fig,ax = plt.subplots()\n",
    "rects = ax.bar(ind, class_counts, width, color='y')\n",
    "ax.set_ylabel('Counts')\n",
    "ax.set_title('Instance count for each class')\n",
    "ax.set_xticks(ind+width/2)\n",
    "ax.set_xticklabels(ind)\n",
    "\n",
    "plt.show()\n"
   ]
  },
  {
   "cell_type": "code",
   "execution_count": 34,
   "metadata": {
    "collapsed": false
   },
   "outputs": [],
   "source": [
    "#jitter the data\n",
    "#X_train_vals = \n",
    "from skimage.util import random_noise\n",
    "\n",
    "def add_noise(X):\n",
    "    X_noise = np.zeros(X.shape, np.float32)\n",
    "    for i in range(X.shape[0]):\n",
    "        X_noise[i] = random_noise(X[i], mode='gaussian')\n",
    "    return X_noise\n",
    "\n",
    "X_noise = add_noise(X_train)\n",
    "y_noise = np.array(y_train, copy=True)\n",
    "\n"
   ]
  },
  {
   "cell_type": "code",
   "execution_count": 35,
   "metadata": {
    "collapsed": false
   },
   "outputs": [
    {
     "name": "stdout",
     "output_type": "stream",
     "text": [
      "78854\n",
      "71052\n",
      "36\n"
     ]
    },
    {
     "data": {
      "image/png": "[encoded data removed]",
      "text/plain": [
       "<matplotlib.figure.Figure at 0x7f09ff6213c8>"
      ]
     },
     "metadata": {},
     "output_type": "display_data"
    }
   ],
   "source": [
    "import random\n",
    "print(len(X_noise))\n",
    "index = random.randint(0, len(X_noise))\n",
    "print(index)\n",
    "image = X_noise[index].squeeze()\n",
    "\n",
    "plt.figure(figsize=(1,1))\n",
    "plt.imshow(image, cmap= plt.get_cmap('gray'))\n",
    "print(y_train[index])"
   ]
  },
  {
   "cell_type": "code",
   "execution_count": 36,
   "metadata": {
    "collapsed": false
   },
   "outputs": [
    {
     "name": "stdout",
     "output_type": "stream",
     "text": [
      "78854\n",
      "25203\n",
      "18\n"
     ]
    },
    {
     "data": {
      "image/png": "[encoded data removed]",
      "text/plain": [
       "<matplotlib.figure.Figure at 0x7f09ff6d6ef0>"
      ]
     },
     "metadata": {},
     "output_type": "display_data"
    }
   ],
   "source": [
    "#add scaling\n",
    "\n",
    "from skimage import transform\n",
    "\n",
    "def add_rescale(X):\n",
    "    X_scaled = np.zeros(X.shape, np.float32)\n",
    "    for i in range(X.shape[0]):\n",
    "        X_scaled[i] = transform.resize(transform.rescale(X[i], (0.9, 1.1)), (32,32))\n",
    "    return X_scaled\n",
    "\n",
    "X_scaled = add_rescale(X_train)\n",
    "y_scaled = np.array(y_train, copy=True)\n",
    "\n",
    "\n",
    "print(len(X_scaled))\n",
    "index = random.randint(0, len(X_scaled))\n",
    "print(index)\n",
    "image = X_scaled[index].squeeze()\n",
    "\n",
    "plt.figure(figsize=(1,1))\n",
    "plt.imshow(image, cmap= plt.get_cmap('gray'))\n",
    "print(y_scaled[index])\n",
    "\n",
    "\n",
    "\n"
   ]
  },
  {
   "cell_type": "code",
   "execution_count": 37,
   "metadata": {
    "collapsed": false
   },
   "outputs": [
    {
     "name": "stdout",
     "output_type": "stream",
     "text": [
      "78854\n",
      "13813\n",
      "9\n"
     ]
    },
    {
     "data": {
      "image/png": "[encoded data removed]",
      "text/plain": [
       "<matplotlib.figure.Figure at 0x7f09ff488a20>"
      ]
     },
     "metadata": {},
     "output_type": "display_data"
    }
   ],
   "source": [
    "from skimage import transform\n",
    "\n",
    "def add_rotation(X):\n",
    "    X_rotated = np.zeros(X.shape, np.float32)\n",
    "    for i in range(X.shape[0]):\n",
    "        angle = float(random.randrange(-15,15,1))\n",
    "        X_rotated[i] = transform.rotate(X[i], angle)\n",
    "    return X_rotated\n",
    "\n",
    "X_rotated = add_rescale(X_train)\n",
    "y_rotated = np.array(y_train, copy=True)\n",
    "\n",
    "print(len(X_rotated))\n",
    "index = random.randint(0, len(X_rotated))\n",
    "print(index)\n",
    "image = X_rotated[index].squeeze()\n",
    "\n",
    "plt.figure(figsize=(1,1))\n",
    "plt.imshow(image, cmap= plt.get_cmap('gray'))\n",
    "print(y_rotated[index])\n",
    "\n"
   ]
  },
  {
   "cell_type": "code",
   "execution_count": 38,
   "metadata": {
    "collapsed": false
   },
   "outputs": [
    {
     "name": "stdout",
     "output_type": "stream",
     "text": [
      "25254\n",
      "18\n"
     ]
    },
    {
     "data": {
      "image/png": "[encoded data removed]",
      "text/plain": [
       "<matplotlib.figure.Figure at 0x7f09ff5d0cf8>"
      ]
     },
     "metadata": {},
     "output_type": "display_data"
    }
   ],
   "source": [
    "index = random.randint(0, len(X_rotated))\n",
    "print(index)\n",
    "image = X_rotated[index].squeeze()\n",
    "\n",
    "plt.figure(figsize=(1,1))\n",
    "plt.imshow(image, cmap= plt.get_cmap('gray'))\n",
    "print(y_rotated[index])\n"
   ]
  },
  {
   "cell_type": "code",
   "execution_count": 39,
   "metadata": {
    "collapsed": false
   },
   "outputs": [
    {
     "name": "stdout",
     "output_type": "stream",
     "text": [
      "Number of Training Examples(after remov validation set) = 252333\n",
      "Number of Validation Examples = 63083\n"
     ]
    }
   ],
   "source": [
    "### Generate additional data (OPTIONAL!)\n",
    "### and split the data into training/validation/testing sets here.\n",
    "### Feel free to use as many code cells as needed.\n",
    "\n",
    "from sklearn.utils import shuffle\n",
    "\n",
    "X_whole = np.concatenate((X_train, X_noise,X_scaled, X_rotated), axis=0)\n",
    "y_whole = np.concatenate((y_train, y_noise, y_scaled, y_rotated), axis=0)\n",
    "\n",
    "\n",
    "X_whole, y_whole = shuffle(X_whole, y_whole)\n",
    "\n",
    "\n",
    "n_whole = len(X_whole)\n",
    "\n",
    "#Choose 20% of the examples as validation set\n",
    "n_valid = int(n_whole*.2)\n",
    "X_validation = X_whole[:n_valid]\n",
    "y_validation = y_whole[:n_valid]\n",
    "\n",
    "X_whole = X_whole[n_valid:]\n",
    "y_whole = y_whole[n_valid:]\n",
    "\n",
    "n_whole = len(X_whole)\n",
    "\n",
    "print('Number of Training Examples(after remov validation set) =', n_whole)\n",
    "print('Number of Validation Examples =', n_valid)"
   ]
  },
  {
   "cell_type": "markdown",
   "metadata": {},
   "source": [
    "### Question 2\n",
    "\n",
    "_Describe how you set up the training, validation and testing data for your model. **Optional**: If you generated additional data, how did you generate the data? Why did you generate the data? What are the differences in the new dataset (with generated data) from the original dataset?_"
   ]
  },
  {
   "cell_type": "markdown",
   "metadata": {},
   "source": [
    "**Answer:**\n",
    "Data augmentation(data generation): After experimentation with various architectures like multi stage connection from CNN layesrs, mutiple fully connected layers, I was able to get atmost 87% accuracy on test data.\n",
    "\n",
    "From the Serment paper, they suggested adding noise, scaling, rotation to existing data to get the additional data. \n",
    "With those suggesstions, I have added those three things, I was able to get additional 3 times the actual data. total 4 times including the original data.  Using this data I was able to get around at 93.4% accuracy on test data at best(see below for various architectures experimented). \n",
    "After that to get addional juice, I plotted distribution of the training data for each class. From the training data a lot of classes have very few instances of training data. So, for each class with number of samples less the 1400 in original data, I did upsampling to get numbers in the range of 1400 and 2250(max # examples a class).\n",
    "Used the same adding noise, scaling, rotation to the sampled data as well. \n",
    "With the total data I got is  316788\n",
    "\n",
    "\n",
    "From This data I used 80% for training and 20% validation\n",
    "traing data = 253431\n",
    "validation data = 63357\n",
    "\n",
    "Testing I have used original test data  =12630 (untouched)\n"
   ]
  },
  {
   "cell_type": "code",
   "execution_count": 4,
   "metadata": {
    "collapsed": true
   },
   "outputs": [],
   "source": [
    "### Define your architecture here.\n",
    "### Feel free to use as many code cells as needed.\n",
    "\n",
    "#with 1st layer 108 and 2ndlayer 8640 filters\n",
    "\n",
    "import tensorflow as tf\n",
    "from tensorflow.contrib.layers import flatten\n",
    "\n",
    "EPOCHS = 30\n",
    "BATCH_SIZE = 128\n",
    "\n",
    "\n",
    "\n",
    "def ts_cnn(x, keep_prob):\n",
    "    mu = 0.0\n",
    "    sigma = 0.1\n",
    "    \n",
    "    W_L1 = tf.Variable(tf.truncated_normal((5,5,1,32), mean=mu, stddev=sigma))\n",
    "    b_L1 = tf.Variable(tf.zeros(32))\n",
    "    strides = [1,1, 1, 1]\n",
    "    padding = 'VALID'\n",
    "    conv1 = tf.nn.conv2d(x, W_L1, strides, padding)\n",
    "    conv1 = tf.nn.bias_add(conv1, b_L1)\n",
    "    \n",
    "    # TODO: Activation.\n",
    "    conv1 = tf.nn.relu(conv1)\n",
    "    print(tf.shape(conv1))\n",
    "                       \n",
    "    # TODO: Pooling. Input = 28x28x32. Output = 14x14x32.\n",
    "    pool1 = tf.nn.max_pool(conv1, [1,2,2,1], [1,2,2,1],'VALID' )\n",
    "    \n",
    "    pool11 = tf.nn.max_pool(conv1, [1,4,4,1], [1,4,4,1],'VALID' )\n",
    "    \n",
    "    # Layer 2: Convolutional. Output = 10x10x64.\n",
    "    W_L2 = tf.Variable(tf.truncated_normal((5,5,32,64), mean=mu, stddev=sigma))\n",
    "    b_L2 = tf.Variable(tf.zeros(64))\n",
    "    strides = [1,1, 1, 1]\n",
    "    padding = 'VALID'\n",
    "    conv2 = tf.nn.conv2d(pool1, W_L2, strides, padding)\n",
    "    conv2 = tf.nn.bias_add(conv2, b_L2)\n",
    "    \n",
    "    # TODO: Activation.\n",
    "    conv2 = tf.nn.relu(conv2)\n",
    "    \n",
    "                       \n",
    "    # TODO: Pooling. Input = 10x10x64. Output = 5x5x64.\n",
    "    pool2 = tf.nn.max_pool(conv2, [1,2,2,1], [1,1,1,1],'VALID' )\n",
    "    \n",
    "       \n",
    "    # Layer 2: Convolutional. input=10x10x64. Output = 10x10x128.\n",
    "    W_L3 = tf.Variable(tf.truncated_normal((5,5,64,128), mean=mu, stddev=sigma))\n",
    "    b_L3 = tf.Variable(tf.zeros(128))\n",
    "    strides = [1,1, 1, 1]\n",
    "    padding = 'VALID'\n",
    "    conv3 = tf.nn.conv2d(pool2, W_L3, strides, padding)\n",
    "    conv3 = tf.nn.bias_add(conv3, b_L3)\n",
    "    \n",
    "    # TODO: Activation.\n",
    "    conv3 = tf.nn.relu(conv3)\n",
    "    \n",
    "                       \n",
    "    # TODO: Pooling. Input = 10x10x128. Output = 5x5x128.\n",
    "    pool3 = tf.nn.max_pool(conv3, [1,2,2,1], [1,2,2,1],'VALID' )   \n",
    "        \n",
    "        \n",
    "    #input 14*14*32 output = 6272\n",
    "    flat_vec1 = flatten(pool11)\n",
    "    # TODO: Flatten. Input = 5x5x64. Output = 1600.\n",
    "    flat_vec2 = flatten(pool2) #tf.reshape(pool2, [-1, 400])   \n",
    "    \n",
    "    # TODO: Flatten. Input = 5x5x128. Output = 3200.\n",
    "    flat_vec3 = flatten(pool3)\n",
    "    \n",
    "    print(tf.shape(flat_vec1))\n",
    "    print(tf.shape(flat_vec2))\n",
    "    print(tf.shape(flat_vec3))\n",
    "    flat_vec = tf.concat(1, [flat_vec1, flat_vec2, flat_vec3])\n",
    "    \n",
    "    # Layer 3: Fully Connected. Input = 7264. Output = 128.\n",
    "    W_fc3 = tf.Variable(tf.truncated_normal([7264,128], mean=mu, stddev=sigma))\n",
    "    b_fc3 = tf.Variable(tf.zeros([128]))\n",
    "    \n",
    "    \n",
    "    # Activation.\n",
    "    fc3 = tf.nn.relu(tf.matmul(flat_vec,W_fc3)+b_fc3)\n",
    "   \n",
    "\n",
    "    ## Layer 4: Fully Connected. Input = 512. Output = 128.\n",
    "    #W_fc4 = tf.Variable(tf.truncated_normal([512, 128], mean=mu, stddev=sigma))\n",
    "    #b_fc4 = tf.Variable(tf.zeros([128]))\n",
    "    \n",
    "    # Activation.\n",
    "    #fc4 = tf.nn.relu(tf.matmul(fc3,W_fc4)+b_fc4)\n",
    "\n",
    "\n",
    "    \n",
    "    # Layer 5: Fully Connected. Input = 128. Output = n_classes.\n",
    "    W_fc6 = tf.Variable(tf.truncated_normal([128, n_classes], mean=mu, stddev=sigma))\n",
    "    b_fc6 = tf.Variable(tf.zeros([n_classes]))\n",
    "    \n",
    "    fc3_drop = tf.nn.dropout(fc3, keep_prob)\n",
    "    # TODO: Activation.\n",
    "    logits = tf.matmul(fc3_drop, W_fc6)+b_fc6\n",
    "    return logits\n",
    "    \n",
    "    \n",
    "    \n",
    "    \n"
   ]
  },
  {
   "cell_type": "markdown",
   "metadata": {},
   "source": [
    "### Question 3\n",
    "\n",
    "_What does your final architecture look like? (Type of model, layers, sizes, connectivity, etc.)  For reference on how to build a deep neural network using TensorFlow, see [Deep Neural Network in TensorFlow\n",
    "](https://classroom.udacity.com/nanodegrees/nd013/parts/fbf77062-5703-404e-b60c-95b78b2f3f9e/modules/6df7ae49-c61c-4bb2-a23e-6527e69209ec/lessons/b516a270-8600-4f93-a0a3-20dfeabe5da6/concepts/83a3a2a2-a9bd-4b7b-95b0-eb924ab14432) from the classroom._\n"
   ]
  },
  {
   "cell_type": "markdown",
   "metadata": {},
   "source": [
    "**Answer:**\n",
    "\n",
    "\n",
    " Architecture:\n",
    " \n",
    "  input(32X32X1) ==> CONV(5X5X32) ==> max_pool1(2X2) ==> CONV(5X5X64)=> max_pool(1X1) ==> CONV(5X5X128) ==>max_pool(2X2)    => relu(FC([ma_pool(pool1, 4X4);pool2; pool3)X128) == logits(128Xn_classes)\n",
    "\n",
    "\n",
    "I have tried various combinations of architectures like 3 Conv and 2 fc layers, 2 conv layers and 3fc layers,\n",
    "multi stage connections from conv layers to fully connected layers.\n",
    "\n",
    "I have also tried filters with 108 filter for conv1 layer and 8640 filters for 2nd conv layers as described in the  Sermanet paper.  However my system has trouble training with insufficient memory. I disconitnued using that model.\n",
    "\n",
    "Finally I settled on 3 CONV layers and 1 FC layers with connections from all three CONV layers along with dropout.\n"
   ]
  },
  {
   "cell_type": "code",
   "execution_count": 5,
   "metadata": {
    "collapsed": false
   },
   "outputs": [],
   "source": [
    "### Train your model here.\n",
    "### Feel free to use as many code cells as needed.\n",
    "\n",
    "x = tf.placeholder(tf.float32, (None, 32, 32, 1))\n",
    "y = tf.placeholder(tf.int32, (None))\n",
    "keep_prob = tf.placeholder(tf.float32)\n",
    "one_hot_y = tf.one_hot(y, n_classes)\n"
   ]
  },
  {
   "cell_type": "code",
   "execution_count": 42,
   "metadata": {
    "collapsed": false
   },
   "outputs": [
    {
     "name": "stdout",
     "output_type": "stream",
     "text": [
      "Tensor(\"Shape_14:0\", shape=(4,), dtype=int32)\n",
      "Tensor(\"Shape_15:0\", shape=(2,), dtype=int32)\n",
      "Tensor(\"Shape_16:0\", shape=(2,), dtype=int32)\n",
      "Tensor(\"Shape_17:0\", shape=(2,), dtype=int32)\n"
     ]
    }
   ],
   "source": [
    "#training main routine\n",
    "\n",
    "rate = 0.001\n",
    "\n",
    "logits = ts_cnn(x, keep_prob)\n",
    "cross_entropy = tf.nn.softmax_cross_entropy_with_logits(logits, one_hot_y)\n",
    "loss_operation = tf.reduce_mean(cross_entropy)\n",
    "optimizer = tf.train.AdamOptimizer(learning_rate = rate)\n",
    "training_operation = optimizer.minimize(loss_operation)"
   ]
  },
  {
   "cell_type": "code",
   "execution_count": 43,
   "metadata": {
    "collapsed": true
   },
   "outputs": [],
   "source": [
    "correct_prediction = tf.equal(tf.argmax(logits, 1), tf.argmax(one_hot_y, 1))\n",
    "accuracy_operation = tf.reduce_mean(tf.cast(correct_prediction, tf.float32))\n",
    "saver = tf.train.Saver()\n",
    "\n",
    "def evaluate(X_data, y_data):\n",
    "    num_examples = len(X_data)\n",
    "    total_accuracy = 0\n",
    "    sess = tf.get_default_session()\n",
    "    for offset in range(0, num_examples, BATCH_SIZE):\n",
    "        batch_x, batch_y = X_data[offset:offset+BATCH_SIZE], y_data[offset:offset+BATCH_SIZE]\n",
    "        accuracy = sess.run(accuracy_operation, feed_dict={x: batch_x, y: batch_y, keep_prob:1.0})\n",
    "        total_accuracy += (accuracy * len(batch_x))\n",
    "    return total_accuracy / num_examples"
   ]
  },
  {
   "cell_type": "code",
   "execution_count": 44,
   "metadata": {
    "collapsed": false
   },
   "outputs": [
    {
     "name": "stdout",
     "output_type": "stream",
     "text": [
      "Training...\n",
      "\n",
      "EPOCH 1 ...\n",
      "Validation Accuracy = 0.962\n",
      "\n",
      "EPOCH 2 ...\n",
      "Validation Accuracy = 0.983\n",
      "\n",
      "EPOCH 3 ...\n",
      "Validation Accuracy = 0.984\n",
      "\n",
      "EPOCH 4 ...\n",
      "Validation Accuracy = 0.992\n",
      "\n",
      "EPOCH 5 ...\n",
      "Validation Accuracy = 0.990\n",
      "\n",
      "EPOCH 6 ...\n",
      "Validation Accuracy = 0.992\n",
      "\n",
      "EPOCH 7 ...\n",
      "Validation Accuracy = 0.994\n",
      "\n",
      "EPOCH 8 ...\n",
      "Validation Accuracy = 0.988\n",
      "\n",
      "EPOCH 9 ...\n",
      "Validation Accuracy = 0.994\n",
      "\n",
      "EPOCH 10 ...\n",
      "Validation Accuracy = 0.995\n",
      "\n",
      "EPOCH 11 ...\n",
      "Validation Accuracy = 0.992\n",
      "\n",
      "EPOCH 12 ...\n",
      "Validation Accuracy = 0.993\n",
      "\n",
      "EPOCH 13 ...\n",
      "Validation Accuracy = 0.993\n",
      "\n",
      "EPOCH 14 ...\n",
      "Validation Accuracy = 0.996\n",
      "\n",
      "EPOCH 15 ...\n",
      "Validation Accuracy = 0.995\n",
      "\n",
      "EPOCH 16 ...\n",
      "Validation Accuracy = 0.996\n",
      "\n",
      "EPOCH 17 ...\n",
      "Validation Accuracy = 0.995\n",
      "\n",
      "EPOCH 18 ...\n",
      "Validation Accuracy = 0.995\n",
      "\n",
      "EPOCH 19 ...\n",
      "Validation Accuracy = 0.996\n",
      "\n",
      "EPOCH 20 ...\n",
      "Validation Accuracy = 0.994\n",
      "\n",
      "EPOCH 21 ...\n",
      "Validation Accuracy = 0.996\n",
      "\n",
      "EPOCH 22 ...\n",
      "Validation Accuracy = 0.996\n",
      "\n",
      "EPOCH 23 ...\n",
      "Validation Accuracy = 0.997\n",
      "\n",
      "EPOCH 24 ...\n",
      "Validation Accuracy = 0.997\n",
      "\n",
      "EPOCH 25 ...\n",
      "Validation Accuracy = 0.996\n",
      "\n",
      "EPOCH 26 ...\n",
      "Validation Accuracy = 0.996\n",
      "\n",
      "EPOCH 27 ...\n",
      "Validation Accuracy = 0.997\n",
      "\n",
      "EPOCH 28 ...\n",
      "Validation Accuracy = 0.995\n",
      "\n",
      "EPOCH 29 ...\n",
      "Validation Accuracy = 0.995\n",
      "\n",
      "EPOCH 30 ...\n",
      "Validation Accuracy = 0.995\n",
      "\n",
      "EPOCH 31 ...\n",
      "Validation Accuracy = 0.996\n",
      "\n",
      "EPOCH 32 ...\n",
      "Validation Accuracy = 0.996\n",
      "\n",
      "EPOCH 33 ...\n",
      "Validation Accuracy = 0.996\n",
      "\n",
      "EPOCH 34 ...\n",
      "Validation Accuracy = 0.996\n",
      "\n",
      "EPOCH 35 ...\n",
      "Validation Accuracy = 0.997\n",
      "\n",
      "EPOCH 36 ...\n",
      "Validation Accuracy = 0.995\n",
      "\n",
      "EPOCH 37 ...\n",
      "Validation Accuracy = 0.997\n",
      "\n",
      "EPOCH 38 ...\n",
      "Validation Accuracy = 0.996\n",
      "\n",
      "EPOCH 39 ...\n",
      "Validation Accuracy = 0.997\n",
      "\n",
      "EPOCH 40 ...\n",
      "Validation Accuracy = 0.996\n",
      "\n",
      "EPOCH 41 ...\n",
      "Validation Accuracy = 0.996\n",
      "\n",
      "EPOCH 42 ...\n",
      "Validation Accuracy = 0.996\n",
      "\n",
      "EPOCH 43 ...\n",
      "Validation Accuracy = 0.996\n",
      "\n",
      "EPOCH 44 ...\n",
      "Validation Accuracy = 0.997\n",
      "\n",
      "EPOCH 45 ...\n",
      "Validation Accuracy = 0.996\n",
      "\n",
      "EPOCH 46 ...\n",
      "Validation Accuracy = 0.997\n",
      "\n",
      "EPOCH 47 ...\n",
      "Validation Accuracy = 0.996\n",
      "\n",
      "EPOCH 48 ...\n",
      "Validation Accuracy = 0.996\n",
      "\n",
      "EPOCH 49 ...\n",
      "Validation Accuracy = 0.997\n",
      "\n",
      "EPOCH 50 ...\n",
      "Validation Accuracy = 0.996\n",
      "\n",
      "Model saved\n"
     ]
    }
   ],
   "source": [
    "with tf.Session() as sess:\n",
    "    sess.run(tf.global_variables_initializer())\n",
    "    num_examples = len(X_train)\n",
    "    \n",
    "    print(\"Training...\")\n",
    "    print()\n",
    "    for i in range(EPOCHS):\n",
    "        X_whole, y_whole = shuffle(X_whole, y_whole)\n",
    "        for offset in range(0, num_examples, BATCH_SIZE):\n",
    "            end = offset + BATCH_SIZE\n",
    "            batch_x, batch_y = X_whole[offset:end], y_whole[offset:end]\n",
    "            sess.run(training_operation, feed_dict={x: batch_x, y: batch_y, keep_prob:0.9})\n",
    "            \n",
    "        validation_accuracy = evaluate(X_validation, y_validation)\n",
    "        print(\"EPOCH {} ...\".format(i+1))\n",
    "        print(\"Validation Accuracy = {:.3f}\".format(validation_accuracy))\n",
    "        print()\n",
    "        \n",
    "    saver.save(sess, './traffic_sign')\n",
    "    print(\"Model saved\")"
   ]
  },
  {
   "cell_type": "code",
   "execution_count": 45,
   "metadata": {
    "collapsed": false
   },
   "outputs": [
    {
     "name": "stdout",
     "output_type": "stream",
     "text": [
      "Test Accuracy = 0.953\n"
     ]
    }
   ],
   "source": [
    "with tf.Session() as sess:\n",
    "    saver.restore(sess, tf.train.latest_checkpoint('.'))\n",
    "\n",
    "    test_accuracy = evaluate(X_test, y_test)\n",
    "    print(\"Test Accuracy = {:.3f}\".format(test_accuracy))"
   ]
  },
  {
   "cell_type": "markdown",
   "metadata": {},
   "source": [
    "### Question 4\n",
    "\n",
    "_How did you train your model? (Type of optimizer, batch size, epochs, hyperparameters, etc.)_\n"
   ]
  },
  {
   "cell_type": "markdown",
   "metadata": {},
   "source": [
    "**Answer:**\n",
    "\n",
    "\n",
    "I have used Adam optimizer,\n",
    "\n",
    "with learning rate = 0.001\n",
    "batch size =128\n",
    "epochs tried  20 to 100. \n",
    "Finally settled to 50 epochs. after additional data generation, I was to get 99.7% accuracy on validation data.\n",
    "\n",
    "With the above architecture and hyper parameters, I was getting 93.8% accuracy on test data. and 99.7% on validation dataa.\n",
    "\n",
    "So, I tried with drop out as 0.9(keep_prob), this increased test accuracy to 95% "
   ]
  },
  {
   "cell_type": "markdown",
   "metadata": {},
   "source": [
    "### Question 5\n",
    "\n",
    "\n",
    "_What approach did you take in coming up with a solution to this problem? It may have been a process of trial and error, in which case, outline the steps you took to get to the final solution and why you chose those steps. Perhaps your solution involved an already well known implementation or architecture. In this case, discuss why you think this is suitable for the current problem._"
   ]
  },
  {
   "cell_type": "markdown",
   "metadata": {},
   "source": [
    "**Answer:**\n",
    "\n",
    "1. Basic MNIST LeNet architecutre is used without changing data. got accurcy \n",
    "2. Converted to YUV channel , used Y channel only as described in Sermanet paper \n",
    "3. Tried multi stage connections as described in the  architecture\n",
    "4. Next tired adding additional conv layer, more fully connected and start removing few layers.\n",
    "5. finally I settled on 3 conv layers, one fc layer  with dropout(0.9) as it was giving 99.7% accuracy on validation and test 95% on test data.\n",
    "\n",
    "\n",
    "\n",
    "\n",
    "\n"
   ]
  },
  {
   "cell_type": "markdown",
   "metadata": {},
   "source": [
    "---\n",
    "\n",
    "## Step 3: Test a Model on New Images\n",
    "\n",
    "Take several pictures of traffic signs that you find on the web or around you (at least five), and run them through your classifier on your computer to produce example results. The classifier might not recognize some local signs but it could prove interesting nonetheless.\n",
    "\n",
    "You may find `signnames.csv` useful as it contains mappings from the class id (integer) to the actual sign name."
   ]
  },
  {
   "cell_type": "markdown",
   "metadata": {},
   "source": [
    "### Implementation\n",
    "\n",
    "Use the code cell (or multiple code cells, if necessary) to implement the first step of your project. Once you have completed your implementation and are satisfied with the results, be sure to thoroughly answer the questions that follow."
   ]
  },
  {
   "cell_type": "code",
   "execution_count": 46,
   "metadata": {
    "collapsed": false
   },
   "outputs": [
    {
     "data": {
      "image/png": "[encoded data removed]",
      "text/plain": [
       "<matplotlib.figure.Figure at 0x7f09ff41a198>"
      ]
     },
     "metadata": {},
     "output_type": "display_data"
    }
   ],
   "source": [
    "### Load the images and plot them here.\n",
    "### Feel free to use as many code cells as needed.\n",
    "\n",
    "from skimage import io\n",
    "from skimage import img_as_ubyte\n",
    "from skimage import transform\n",
    "from skimage import exposure\n",
    "import numpy as np\n",
    "import tensorflow as tf\n",
    "\n",
    "images = []\n",
    "img = img_as_ubyte(io.imread('myimages/donotenter.jpeg'))\n",
    "images.append(transform.resize(img,(32,32)))\n",
    "img = img_as_ubyte(io.imread('myimages/oncoming_traffic.png'))\n",
    "images.append(transform.resize(img,(32,32)))\n",
    "img = img_as_ubyte(io.imread('myimages/notruck.png'))\n",
    "images.append(transform.resize(img,(32,32)))\n",
    "img = img_as_ubyte(io.imread('myimages/temporary_stop.jpeg'))\n",
    "images.append(transform.resize(img,(32,32)))\n",
    "img = img_as_ubyte(io.imread('myimages/stop.png'))\n",
    "images.append(transform.resize(img,(32,32)))\n",
    "a = np.array(images)\n",
    "\n",
    "a = 0.299*a[:,:,:,0]+0.587*a[:,:,:,1]+0.114*a[:,:,:,2]\n",
    "a = (a/255.).astype(np.float32)  #scale between 0 and 1\n",
    "\n",
    "for i in range(a.shape[0]):\n",
    "    a[i] = exposure.equalize_hist(a[i])\n",
    "\n",
    "a = a.reshape(a.shape+(1,))\n",
    "img_cnt = len(images)\n",
    "\n",
    "fig = plt.figure()\n",
    "for i in range(img_cnt):\n",
    "    b= fig.add_subplot(1,img_cnt,i+1)\n",
    "    plt.imshow(a[i].squeeze(), cmap= plt.get_cmap('gray'))\n"
   ]
  },
  {
   "cell_type": "markdown",
   "metadata": {},
   "source": [
    "### Question 6\n",
    "\n",
    "_Choose five candidate images of traffic signs and provide them in the report. Are there any particular qualities of the image(s) that might make classification difficult? It could be helpful to plot the images in the notebook._\n",
    "\n"
   ]
  },
  {
   "cell_type": "markdown",
   "metadata": {},
   "source": [
    "**Answer:**\n",
    "\n",
    "I tried selecting images such that each on shows diffrent property, one with text, construction worker etc.\n",
    "As hown above the I thought It will be difficult classify DO NOT ENTER, construction worker stop symbol."
   ]
  },
  {
   "cell_type": "code",
   "execution_count": 55,
   "metadata": {
    "collapsed": false
   },
   "outputs": [
    {
     "name": "stdout",
     "output_type": "stream",
     "text": [
      "scored labels = [17 35 16 12  1]\n"
     ]
    }
   ],
   "source": [
    "### Run the predictions here.\n",
    "### Feel free to use as many code cells as needed.\n",
    "\n",
    "_, scoring = tf.nn.top_k(logits, 1)     \n",
    "    \n",
    "with tf.Session() as sess:\n",
    "    saver.restore(sess, tf.train.latest_checkpoint('.'))\n",
    "\n",
    "    scored_labels, logit_vals = sess.run([scoring, logits], feed_dict={x: a, keep_prob:1.0})\n",
    "    \n",
    "    print(\"scored labels = {:}\".format(scored_labels[:,0]))\n",
    "\n"
   ]
  },
  {
   "cell_type": "code",
   "execution_count": null,
   "metadata": {
    "collapsed": true
   },
   "outputs": [],
   "source": [
    "sign names recognized:\n",
    "======\n",
    "17: No Entry\n",
    "35: Ahead Only\n",
    "16: Vehicles over 3.5 metric tons prohibited\n",
    "12: Priority road\n",
    "1: Speed Limit (30km/h)\n",
    "\n"
   ]
  },
  {
   "cell_type": "markdown",
   "metadata": {},
   "source": [
    "### Question 7\n",
    "\n",
    "_Is your model able to perform equally well on captured pictures when compared to testing on the dataset? The simplest way to do this check the accuracy of the predictions. For example, if the model predicted 1 out of 5 signs correctly, it's 20% accurate._\n",
    "\n",
    "_**NOTE:** You could check the accuracy manually by using `signnames.csv` (same directory). This file has a mapping from the class id (0-42) to the corresponding sign name. So, you could take the class id the model outputs, lookup the name in `signnames.csv` and see if it matches the sign from the image._\n"
   ]
  },
  {
   "cell_type": "markdown",
   "metadata": {},
   "source": [
    "**Answer:**\n",
    "\n",
    "Yes, as plotted below, each image  it assigned highest confidence to one classe. and Negligible probability to the rest of the classes. \n",
    "\n",
    "My model correctly classified 4 out 5 images I have uploaded, resulting 80% accuracy.\n",
    "For the last one it idenitfied as 1: Speed Limit (30km/h) actually it is 14: Stop.It is still in my top 5 classes identified.\n",
    "\n"
   ]
  },
  {
   "cell_type": "code",
   "execution_count": 63,
   "metadata": {
    "collapsed": false
   },
   "outputs": [
    {
     "name": "stdout",
     "output_type": "stream",
     "text": [
      "[[  1.00000000e+00   0.00000000e+00   0.00000000e+00   0.00000000e+00\n",
      "    0.00000000e+00]\n",
      " [  9.95217979e-01   2.73857103e-03   2.04337039e-03   1.09179361e-07\n",
      "    1.10535625e-08]\n",
      " [  9.99962091e-01   3.78798904e-05   9.89676136e-12   4.75672193e-12\n",
      "    1.67528114e-13]\n",
      " [  9.99999881e-01   1.15972846e-07   7.54354981e-11   6.15501920e-12\n",
      "    4.66478809e-12]\n",
      " [  9.95868564e-01   2.87353690e-03   5.61560038e-04   2.09004822e-04\n",
      "    1.60708238e-04]]\n",
      "[[17  0  1  2  3]\n",
      " [35 37 40 33 12]\n",
      " [16 28  9 15 22]\n",
      " [12 35 36 14 38]\n",
      " [ 1 38 14  5 13]]\n"
     ]
    },
    {
     "data": {
      "image/png": "[encoded data removed]",
      "text/plain": [
       "<matplotlib.figure.Figure at 0x7f09faf6e128>"
      ]
     },
     "metadata": {},
     "output_type": "display_data"
    }
   ],
   "source": [
    "### Visualize the softmax probabilities here.\n",
    "### Feel free to use as many code cells as needed.\n",
    "with tf.Session() as sess:\n",
    "    softmax_prob = tf.nn.softmax(tf.constant(logit_vals))\n",
    "    top5_pr_vals, top5_id_vals = sess.run(tf.nn.top_k(softmax_prob, 5, sorted=True) )\n",
    "\n",
    "print(top5_pr_vals)\n",
    "print(top5_id_vals)\n",
    "    \n",
    "fig,ax = plt.subplots()\n",
    "ind = np.arange(5)\n",
    "rects = ax.bar(ind, top5_pr_vals[0], width, color='y')\n",
    "ax.set_ylabel('probability')\n",
    "ax.set_title('probability for each class')\n",
    "ax.set_xticks(ind+width/2)\n",
    "ax.set_xticklabels(top5_id_vals)\n",
    "\n",
    "plt.show()\n"
   ]
  },
  {
   "cell_type": "code",
   "execution_count": 67,
   "metadata": {
    "collapsed": false
   },
   "outputs": [
    {
     "data": {
      "image/png": "[encoded data removed]",
      "text/plain": [
       "<matplotlib.figure.Figure at 0x7f0a2906b748>"
      ]
     },
     "metadata": {},
     "output_type": "display_data"
    }
   ],
   "source": [
    "\n",
    "f, (ax1, ax2, ax3, ax4, ax5) = plt.subplots(1, 5, sharey=True)\n",
    "ind = np.arange(5)\n",
    "ax1.set_title('probs')\n",
    "rects = ax1.bar(ind, top5_pr_vals[0], width, color='y')\n",
    "ax1.set_xticks(ind+width/2)\n",
    "ax1.set_xticklabels(top5_id_vals[0])\n",
    "\n",
    "rects = ax2.bar(ind, top5_pr_vals[1], width, color='y')\n",
    "ax2.set_xticks(ind+width/2)\n",
    "ax2.set_xticklabels(top5_id_vals[1])\n",
    "\n",
    "rects = ax3.bar(ind, top5_pr_vals[2], width, color='y')\n",
    "ax3.set_xticks(ind+width/2)\n",
    "ax3.set_xticklabels(top5_id_vals[2])\n",
    "\n",
    "rects = ax4.bar(ind, top5_pr_vals[3], width, color='y')\n",
    "ax4.set_xticks(ind+width/2)\n",
    "ax4.set_xticklabels(top5_id_vals[3])\n",
    "\n",
    "rects = ax5.bar(ind, top5_pr_vals[4], width, color='y')\n",
    "ax5.set_xticks(ind+width/2)\n",
    "ax5.set_xticklabels(top5_id_vals[4])\n",
    "\n",
    "plt.show()\n"
   ]
  },
  {
   "cell_type": "markdown",
   "metadata": {},
   "source": [
    "### Question 8\n",
    "\n",
    "*Use the model's softmax probabilities to visualize the **certainty** of its predictions, [`tf.nn.top_k`](https://www.tensorflow.org/versions/r0.12/api_docs/python/nn.html#top_k) could prove helpful here. Which predictions is the model certain of? Uncertain? If the model was incorrect in its initial prediction, does the correct prediction appear in the top k? (k should be 5 at most)*\n",
    "\n",
    "`tf.nn.top_k` will return the values and indices (class ids) of the top k predictions. So if k=3, for each sign, it'll return the 3 largest probabilities (out of a possible 43) and the correspoding class ids.\n",
    "\n",
    "Take this numpy array as an example:\n",
    "\n",
    "```\n",
    "# (5, 6) array\n",
    "a = np.array([[ 0.24879643,  0.07032244,  0.12641572,  0.34763842,  0.07893497,\n",
    "         0.12789202],\n",
    "       [ 0.28086119,  0.27569815,  0.08594638,  0.0178669 ,  0.18063401,\n",
    "         0.15899337],\n",
    "       [ 0.26076848,  0.23664738,  0.08020603,  0.07001922,  0.1134371 ,\n",
    "         0.23892179],\n",
    "       [ 0.11943333,  0.29198961,  0.02605103,  0.26234032,  0.1351348 ,\n",
    "         0.16505091],\n",
    "       [ 0.09561176,  0.34396535,  0.0643941 ,  0.16240774,  0.24206137,\n",
    "         0.09155967]])\n",
    "```\n",
    "\n",
    "Running it through `sess.run(tf.nn.top_k(tf.constant(a), k=3))` produces:\n",
    "\n",
    "```\n",
    "TopKV2(values=array([[ 0.34763842,  0.24879643,  0.12789202],\n",
    "       [ 0.28086119,  0.27569815,  0.18063401],\n",
    "       [ 0.26076848,  0.23892179,  0.23664738],\n",
    "       [ 0.29198961,  0.26234032,  0.16505091],\n",
    "       [ 0.34396535,  0.24206137,  0.16240774]]), indices=array([[3, 0, 5],\n",
    "       [0, 1, 4],\n",
    "       [0, 5, 1],\n",
    "       [1, 3, 5],\n",
    "       [1, 4, 3]], dtype=int32))\n",
    "```\n",
    "\n",
    "Looking just at the first row we get `[ 0.34763842,  0.24879643,  0.12789202]`, you can confirm these are the 3 largest probabilities in `a`. You'll also notice `[3, 0, 5]` are the corresponding indices."
   ]
  },
  {
   "cell_type": "markdown",
   "metadata": {},
   "source": [
    "**Answer:**\n",
    "\n",
    "As described above, out of 5 images last one stop sign is recognized as 30/km speed limit sign.  for that image, stop sign is  the 3rd   among the predicted classes.  it looks like in the in the misclassfied example(STOP sign) it looks like 'ST' is recognized as '3' and 'O' as 0.\n",
    "\n",
    "Overall, I am impressed with performance of the model."
   ]
  },
  {
   "cell_type": "markdown",
   "metadata": {},
   "source": [
    "> **Note**: Once you have completed all of the code implementations and successfully answered each question above, you may finalize your work by exporting the iPython Notebook as an HTML document. You can do this by using the menu above and navigating to  \\n\",\n",
    "    \"**File -> Download as -> HTML (.html)**. Include the finished document along with this notebook as your submission."
   ]
  },
  {
   "cell_type": "code",
   "execution_count": null,
   "metadata": {
    "collapsed": true
   },
   "outputs": [],
   "source": []
  }
 ],
 "metadata": {
  "anaconda-cloud": {},
  "kernelspec": {
   "display_name": "Python 3",
   "language": "python",
   "name": "python3"
  },
  "language_info": {
   "codemirror_mode": {
    "name": "ipython",
    "version": 3
   },
   "file_extension": ".py",
   "mimetype": "text/x-python",
   "name": "python",
   "nbconvert_exporter": "python",
   "pygments_lexer": "ipython3",
   "version": "3.5.2"
  },
  "widgets": {
   "state": {},
   "version": "1.1.2"
  }
 },
 "nbformat": 4,
 "nbformat_minor": 1
}
